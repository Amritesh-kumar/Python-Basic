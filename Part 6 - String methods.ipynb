{
 "cells": [
  {
   "cell_type": "code",
   "execution_count": 11,
   "id": "1b6b9636",
   "metadata": {},
   "outputs": [],
   "source": [
    "var1 = 'test for python'"
   ]
  },
  {
   "cell_type": "code",
   "execution_count": 2,
   "id": "27ccab22",
   "metadata": {},
   "outputs": [
    {
     "name": "stdout",
     "output_type": "stream",
     "text": [
      "TEST FOR PYTHON\n"
     ]
    }
   ],
   "source": [
    "print(var1.upper())"
   ]
  },
  {
   "cell_type": "code",
   "execution_count": 6,
   "id": "4e6bea94",
   "metadata": {},
   "outputs": [
    {
     "name": "stdout",
     "output_type": "stream",
     "text": [
      "test for python\n"
     ]
    }
   ],
   "source": [
    "print(var1.lower())"
   ]
  },
  {
   "cell_type": "code",
   "execution_count": 7,
   "id": "8079cabd",
   "metadata": {},
   "outputs": [
    {
     "name": "stdout",
     "output_type": "stream",
     "text": [
      "Test for python\n"
     ]
    }
   ],
   "source": [
    "print(var1.capitalize())"
   ]
  },
  {
   "cell_type": "code",
   "execution_count": 8,
   "id": "8fb8bb7d",
   "metadata": {},
   "outputs": [
    {
     "name": "stdout",
     "output_type": "stream",
     "text": [
      "Test For Python\n"
     ]
    }
   ],
   "source": [
    "print(var1.title())"
   ]
  },
  {
   "cell_type": "code",
   "execution_count": 9,
   "id": "947e4951",
   "metadata": {},
   "outputs": [
    {
     "name": "stdout",
     "output_type": "stream",
     "text": [
      "False\n"
     ]
    }
   ],
   "source": [
    "print(var1.isupper())"
   ]
  },
  {
   "cell_type": "code",
   "execution_count": 12,
   "id": "d59f252c",
   "metadata": {},
   "outputs": [
    {
     "name": "stdout",
     "output_type": "stream",
     "text": [
      "True\n"
     ]
    }
   ],
   "source": [
    "print(var1.islower())"
   ]
  },
  {
   "cell_type": "code",
   "execution_count": 13,
   "id": "5ed57258",
   "metadata": {},
   "outputs": [
    {
     "name": "stdout",
     "output_type": "stream",
     "text": [
      "False\n"
     ]
    }
   ],
   "source": [
    "print(var1.istitle())"
   ]
  },
  {
   "cell_type": "code",
   "execution_count": 14,
   "id": "8fa0f44f",
   "metadata": {},
   "outputs": [
    {
     "name": "stdout",
     "output_type": "stream",
     "text": [
      "False\n"
     ]
    }
   ],
   "source": [
    "print(var1.isnumeric())"
   ]
  },
  {
   "cell_type": "code",
   "execution_count": 22,
   "id": "b529d1e4",
   "metadata": {},
   "outputs": [],
   "source": [
    "var2 = '123'"
   ]
  },
  {
   "cell_type": "code",
   "execution_count": 23,
   "id": "d58b25ff",
   "metadata": {},
   "outputs": [
    {
     "name": "stdout",
     "output_type": "stream",
     "text": [
      "True\n"
     ]
    }
   ],
   "source": [
    "print(var2.isnumeric())"
   ]
  },
  {
   "cell_type": "code",
   "execution_count": 24,
   "id": "6d6ba26e",
   "metadata": {},
   "outputs": [
    {
     "name": "stdout",
     "output_type": "stream",
     "text": [
      "False\n"
     ]
    }
   ],
   "source": [
    "print(var1.isalpha())"
   ]
  },
  {
   "cell_type": "code",
   "execution_count": 36,
   "id": "5be76b31",
   "metadata": {},
   "outputs": [],
   "source": [
    "var3 = 123"
   ]
  },
  {
   "cell_type": "code",
   "execution_count": 37,
   "id": "7aef2311",
   "metadata": {},
   "outputs": [
    {
     "ename": "AttributeError",
     "evalue": "'int' object has no attribute 'isalpha'",
     "output_type": "error",
     "traceback": [
      "\u001b[1;31m---------------------------------------------------------------------------\u001b[0m",
      "\u001b[1;31mAttributeError\u001b[0m                            Traceback (most recent call last)",
      "\u001b[1;32m<ipython-input-37-53f28a7a0e58>\u001b[0m in \u001b[0;36m<module>\u001b[1;34m\u001b[0m\n\u001b[1;32m----> 1\u001b[1;33m \u001b[0mprint\u001b[0m\u001b[1;33m(\u001b[0m\u001b[0mvar3\u001b[0m\u001b[1;33m.\u001b[0m\u001b[0misalpha\u001b[0m\u001b[1;33m(\u001b[0m\u001b[1;33m)\u001b[0m\u001b[1;33m)\u001b[0m\u001b[1;33m\u001b[0m\u001b[1;33m\u001b[0m\u001b[0m\n\u001b[0m",
      "\u001b[1;31mAttributeError\u001b[0m: 'int' object has no attribute 'isalpha'"
     ]
    }
   ],
   "source": [
    "print(var3.isalpha())"
   ]
  },
  {
   "cell_type": "code",
   "execution_count": null,
   "id": "4158a5c8",
   "metadata": {},
   "outputs": [],
   "source": []
  }
 ],
 "metadata": {
  "kernelspec": {
   "display_name": "Python 3",
   "language": "python",
   "name": "python3"
  },
  "language_info": {
   "codemirror_mode": {
    "name": "ipython",
    "version": 3
   },
   "file_extension": ".py",
   "mimetype": "text/x-python",
   "name": "python",
   "nbconvert_exporter": "python",
   "pygments_lexer": "ipython3",
   "version": "3.6.9"
  }
 },
 "nbformat": 4,
 "nbformat_minor": 5
}
