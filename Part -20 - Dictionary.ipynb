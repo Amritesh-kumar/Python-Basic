{
 "cells": [
  {
   "cell_type": "code",
   "execution_count": 4,
   "id": "a1ece9c6",
   "metadata": {},
   "outputs": [],
   "source": [
    "d = {'brand': 'xyz', 'year':2000}"
   ]
  },
  {
   "cell_type": "code",
   "execution_count": 5,
   "id": "594b4a9f",
   "metadata": {},
   "outputs": [
    {
     "data": {
      "text/plain": [
       "dict"
      ]
     },
     "execution_count": 5,
     "metadata": {},
     "output_type": "execute_result"
    }
   ],
   "source": [
    "type(d)"
   ]
  },
  {
   "cell_type": "code",
   "execution_count": 6,
   "id": "41b88b49",
   "metadata": {},
   "outputs": [
    {
     "data": {
      "text/plain": [
       "2000"
      ]
     },
     "execution_count": 6,
     "metadata": {},
     "output_type": "execute_result"
    }
   ],
   "source": [
    "d['year']"
   ]
  },
  {
   "cell_type": "code",
   "execution_count": 9,
   "id": "a67a026a",
   "metadata": {},
   "outputs": [
    {
     "data": {
      "text/plain": [
       "'xyz'"
      ]
     },
     "execution_count": 9,
     "metadata": {},
     "output_type": "execute_result"
    }
   ],
   "source": [
    "d['brand']"
   ]
  },
  {
   "cell_type": "code",
   "execution_count": 10,
   "id": "2caaf569",
   "metadata": {},
   "outputs": [
    {
     "data": {
      "text/plain": [
       "2000"
      ]
     },
     "execution_count": 10,
     "metadata": {},
     "output_type": "execute_result"
    }
   ],
   "source": [
    "d.get('year')"
   ]
  },
  {
   "cell_type": "code",
   "execution_count": 15,
   "id": "191c872b",
   "metadata": {},
   "outputs": [
    {
     "data": {
      "text/plain": [
       "dict_keys(['brand', 'year'])"
      ]
     },
     "execution_count": 15,
     "metadata": {},
     "output_type": "execute_result"
    }
   ],
   "source": [
    "d.keys()"
   ]
  },
  {
   "cell_type": "code",
   "execution_count": 16,
   "id": "426501b9",
   "metadata": {},
   "outputs": [
    {
     "data": {
      "text/plain": [
       "dict_values(['xyz', 2000])"
      ]
     },
     "execution_count": 16,
     "metadata": {},
     "output_type": "execute_result"
    }
   ],
   "source": [
    "d.values()"
   ]
  },
  {
   "cell_type": "code",
   "execution_count": 17,
   "id": "c5f4013a",
   "metadata": {},
   "outputs": [],
   "source": [
    "d = {'brand': 'xyz', 'year':2000, 'brand1': 'xyz', 'year':2000}"
   ]
  },
  {
   "cell_type": "code",
   "execution_count": 18,
   "id": "393a5ca5",
   "metadata": {},
   "outputs": [
    {
     "data": {
      "text/plain": [
       "{'brand': 'xyz', 'year': 2000, 'brand1': 'xyz'}"
      ]
     },
     "execution_count": 18,
     "metadata": {},
     "output_type": "execute_result"
    }
   ],
   "source": [
    "d"
   ]
  },
  {
   "cell_type": "code",
   "execution_count": 20,
   "id": "cbdffb0b",
   "metadata": {},
   "outputs": [],
   "source": [
    "d['brand1'] = 'abc'"
   ]
  },
  {
   "cell_type": "code",
   "execution_count": 21,
   "id": "b67fcc29",
   "metadata": {},
   "outputs": [
    {
     "data": {
      "text/plain": [
       "{'brand': 'xyz', 'year': 2000, 'brand1': 'abc'}"
      ]
     },
     "execution_count": 21,
     "metadata": {},
     "output_type": "execute_result"
    }
   ],
   "source": [
    "d"
   ]
  },
  {
   "cell_type": "code",
   "execution_count": 22,
   "id": "f629387d",
   "metadata": {},
   "outputs": [],
   "source": [
    "d['t'] = 123"
   ]
  },
  {
   "cell_type": "code",
   "execution_count": 23,
   "id": "66d38895",
   "metadata": {},
   "outputs": [
    {
     "data": {
      "text/plain": [
       "{'brand': 'xyz', 'year': 2000, 'brand1': 'abc', 't': 123}"
      ]
     },
     "execution_count": 23,
     "metadata": {},
     "output_type": "execute_result"
    }
   ],
   "source": [
    "d"
   ]
  },
  {
   "cell_type": "code",
   "execution_count": 24,
   "id": "e5ef8307",
   "metadata": {},
   "outputs": [],
   "source": [
    "d.update({'color': 'r'})"
   ]
  },
  {
   "cell_type": "code",
   "execution_count": 25,
   "id": "4d47b821",
   "metadata": {},
   "outputs": [
    {
     "data": {
      "text/plain": [
       "{'brand': 'xyz', 'year': 2000, 'brand1': 'abc', 't': 123, 'color': 'r'}"
      ]
     },
     "execution_count": 25,
     "metadata": {},
     "output_type": "execute_result"
    }
   ],
   "source": [
    "d"
   ]
  },
  {
   "cell_type": "code",
   "execution_count": 26,
   "id": "7a47c3f1",
   "metadata": {},
   "outputs": [
    {
     "data": {
      "text/plain": [
       "'r'"
      ]
     },
     "execution_count": 26,
     "metadata": {},
     "output_type": "execute_result"
    }
   ],
   "source": [
    "d.pop('color')"
   ]
  },
  {
   "cell_type": "code",
   "execution_count": 27,
   "id": "2b8ff4b8",
   "metadata": {},
   "outputs": [
    {
     "data": {
      "text/plain": [
       "{'brand': 'xyz', 'year': 2000, 'brand1': 'abc', 't': 123}"
      ]
     },
     "execution_count": 27,
     "metadata": {},
     "output_type": "execute_result"
    }
   ],
   "source": [
    "d"
   ]
  },
  {
   "cell_type": "code",
   "execution_count": null,
   "id": "e0094e58",
   "metadata": {},
   "outputs": [],
   "source": []
  }
 ],
 "metadata": {
  "kernelspec": {
   "display_name": "Python 3",
   "language": "python",
   "name": "python3"
  },
  "language_info": {
   "codemirror_mode": {
    "name": "ipython",
    "version": 3
   },
   "file_extension": ".py",
   "mimetype": "text/x-python",
   "name": "python",
   "nbconvert_exporter": "python",
   "pygments_lexer": "ipython3",
   "version": "3.6.9"
  }
 },
 "nbformat": 4,
 "nbformat_minor": 5
}
