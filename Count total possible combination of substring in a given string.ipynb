{
 "cells": [
  {
   "cell_type": "code",
   "execution_count": 1,
   "id": "3ba811d1",
   "metadata": {},
   "outputs": [],
   "source": [
    "import re"
   ]
  },
  {
   "cell_type": "code",
   "execution_count": 2,
   "id": "a9b015cd",
   "metadata": {},
   "outputs": [],
   "source": [
    "s = 'abcdcdc'"
   ]
  },
  {
   "cell_type": "code",
   "execution_count": 3,
   "id": "dde2f21a",
   "metadata": {},
   "outputs": [
    {
     "data": {
      "text/plain": [
       "1"
      ]
     },
     "execution_count": 3,
     "metadata": {},
     "output_type": "execute_result"
    }
   ],
   "source": [
    "s.count('cdc')"
   ]
  },
  {
   "cell_type": "code",
   "execution_count": 5,
   "id": "b3ce104a",
   "metadata": {},
   "outputs": [
    {
     "data": {
      "text/plain": [
       "2"
      ]
     },
     "execution_count": 5,
     "metadata": {},
     "output_type": "execute_result"
    }
   ],
   "source": [
    "len(re.findall('(?=cdc)',s))"
   ]
  },
  {
   "cell_type": "code",
   "execution_count": 8,
   "id": "ec7816de",
   "metadata": {},
   "outputs": [],
   "source": [
    "result = len(re.findall('(?=cdc)',s))"
   ]
  },
  {
   "cell_type": "code",
   "execution_count": 9,
   "id": "f32e6e1e",
   "metadata": {},
   "outputs": [
    {
     "name": "stdout",
     "output_type": "stream",
     "text": [
      "2\n"
     ]
    }
   ],
   "source": [
    "print(result)"
   ]
  },
  {
   "cell_type": "code",
   "execution_count": 10,
   "id": "eccb8a20",
   "metadata": {},
   "outputs": [
    {
     "name": "stdout",
     "output_type": "stream",
     "text": [
      "2\n"
     ]
    }
   ],
   "source": [
    "string = \"ABCDCDC\"\n",
    "substring = \"CDC\"\n",
    "\n",
    "def count_substring(string,sub_string):\n",
    "    len1 = len(string)\n",
    "    len2 = len(sub_string)\n",
    "    j =0\n",
    "    counter = 0\n",
    "    while(j < len1):\n",
    "        if(string[j] == sub_string[0]):\n",
    "            if(string[j:j+len2] == sub_string):\n",
    "                counter += 1\n",
    "        j += 1\n",
    "\n",
    "    return counter\n",
    "\n",
    "x = count_substring(string,substring);\n",
    "print(x)"
   ]
  },
  {
   "cell_type": "code",
   "execution_count": null,
   "id": "efd5ffc4",
   "metadata": {},
   "outputs": [],
   "source": []
  }
 ],
 "metadata": {
  "kernelspec": {
   "display_name": "Python 3",
   "language": "python",
   "name": "python3"
  },
  "language_info": {
   "codemirror_mode": {
    "name": "ipython",
    "version": 3
   },
   "file_extension": ".py",
   "mimetype": "text/x-python",
   "name": "python",
   "nbconvert_exporter": "python",
   "pygments_lexer": "ipython3",
   "version": "3.6.9"
  }
 },
 "nbformat": 4,
 "nbformat_minor": 5
}
