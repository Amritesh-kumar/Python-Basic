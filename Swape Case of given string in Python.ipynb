{
 "cells": [
  {
   "cell_type": "code",
   "execution_count": 2,
   "id": "6c4466d8",
   "metadata": {},
   "outputs": [
    {
     "name": "stdout",
     "output_type": "stream",
     "text": [
      "Enter String to swape :python\n",
      "PYTHON\n"
     ]
    }
   ],
   "source": [
    "string_input = input(\"Enter String to swape :\")\n",
    "swape_value = string_input.swapcase()\n",
    "print(swape_value)"
   ]
  },
  {
   "cell_type": "code",
   "execution_count": 3,
   "id": "011f000a",
   "metadata": {},
   "outputs": [
    {
     "name": "stdout",
     "output_type": "stream",
     "text": [
      "Enter String to swape :Python\n",
      "pYTHON\n"
     ]
    }
   ],
   "source": [
    "string_input = input(\"Enter String to swape :\")\n",
    "swape_value = string_input.swapcase()\n",
    "print(swape_value)"
   ]
  },
  {
   "cell_type": "code",
   "execution_count": 4,
   "id": "0d118e0f",
   "metadata": {},
   "outputs": [
    {
     "name": "stdout",
     "output_type": "stream",
     "text": [
      "Enter String to swape :pYtHoN\n",
      "PyThOn\n"
     ]
    }
   ],
   "source": [
    "string_input = input(\"Enter String to swape :\")\n",
    "swape_value = string_input.swapcase()\n",
    "print(swape_value)\n"
   ]
  }
 ],
 "metadata": {
  "kernelspec": {
   "display_name": "Python 3",
   "language": "python",
   "name": "python3"
  },
  "language_info": {
   "codemirror_mode": {
    "name": "ipython",
    "version": 3
   },
   "file_extension": ".py",
   "mimetype": "text/x-python",
   "name": "python",
   "nbconvert_exporter": "python",
   "pygments_lexer": "ipython3",
   "version": "3.6.9"
  }
 },
 "nbformat": 4,
 "nbformat_minor": 5
}
