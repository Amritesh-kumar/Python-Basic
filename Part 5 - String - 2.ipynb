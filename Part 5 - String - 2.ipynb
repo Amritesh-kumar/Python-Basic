{
 "cells": [
  {
   "cell_type": "code",
   "execution_count": 1,
   "id": "1170ad9c",
   "metadata": {},
   "outputs": [],
   "source": [
    "txt = 'The best things in life are free'"
   ]
  },
  {
   "cell_type": "code",
   "execution_count": 2,
   "id": "e7932d00",
   "metadata": {},
   "outputs": [
    {
     "name": "stdout",
     "output_type": "stream",
     "text": [
      "True\n"
     ]
    }
   ],
   "source": [
    "print('free' in txt)"
   ]
  },
  {
   "cell_type": "code",
   "execution_count": 3,
   "id": "8a1af4bc",
   "metadata": {},
   "outputs": [
    {
     "name": "stdout",
     "output_type": "stream",
     "text": [
      "False\n"
     ]
    }
   ],
   "source": [
    "print('is' in txt)"
   ]
  },
  {
   "cell_type": "code",
   "execution_count": 4,
   "id": "7fe1e603",
   "metadata": {},
   "outputs": [
    {
     "name": "stdout",
     "output_type": "stream",
     "text": [
      "False\n"
     ]
    }
   ],
   "source": [
    "print('free' not in txt)"
   ]
  },
  {
   "cell_type": "code",
   "execution_count": 5,
   "id": "96273d4f",
   "metadata": {},
   "outputs": [
    {
     "name": "stdout",
     "output_type": "stream",
     "text": [
      "True\n"
     ]
    }
   ],
   "source": [
    "print('is' not in txt)"
   ]
  },
  {
   "cell_type": "code",
   "execution_count": 6,
   "id": "f60ac27d",
   "metadata": {},
   "outputs": [],
   "source": [
    "name = 'my name is jon and i am '\n",
    "age = 30"
   ]
  },
  {
   "cell_type": "code",
   "execution_count": 7,
   "id": "0820c932",
   "metadata": {},
   "outputs": [
    {
     "ename": "TypeError",
     "evalue": "must be str, not int",
     "output_type": "error",
     "traceback": [
      "\u001b[1;31m---------------------------------------------------------------------------\u001b[0m",
      "\u001b[1;31mTypeError\u001b[0m                                 Traceback (most recent call last)",
      "\u001b[1;32m<ipython-input-7-2c5ba7532d54>\u001b[0m in \u001b[0;36m<module>\u001b[1;34m\u001b[0m\n\u001b[1;32m----> 1\u001b[1;33m \u001b[0mc\u001b[0m \u001b[1;33m=\u001b[0m \u001b[0mname\u001b[0m \u001b[1;33m+\u001b[0m \u001b[0mage\u001b[0m\u001b[1;33m\u001b[0m\u001b[1;33m\u001b[0m\u001b[0m\n\u001b[0m",
      "\u001b[1;31mTypeError\u001b[0m: must be str, not int"
     ]
    }
   ],
   "source": [
    "c = name + age"
   ]
  },
  {
   "cell_type": "code",
   "execution_count": 8,
   "id": "a612d466",
   "metadata": {},
   "outputs": [],
   "source": [
    "c = name + '30'"
   ]
  },
  {
   "cell_type": "code",
   "execution_count": 9,
   "id": "8a07a200",
   "metadata": {},
   "outputs": [],
   "source": [
    "a = '30'"
   ]
  },
  {
   "cell_type": "code",
   "execution_count": 10,
   "id": "65d69df0",
   "metadata": {},
   "outputs": [
    {
     "name": "stdout",
     "output_type": "stream",
     "text": [
      "<class 'str'>\n"
     ]
    }
   ],
   "source": [
    "print(type(a))"
   ]
  },
  {
   "cell_type": "code",
   "execution_count": 11,
   "id": "8eee87cc",
   "metadata": {},
   "outputs": [
    {
     "name": "stdout",
     "output_type": "stream",
     "text": [
      "my name is jon and i am 30\n"
     ]
    }
   ],
   "source": [
    "c = 'my name is jon and i am {}'\n",
    "print(c.format(age))"
   ]
  },
  {
   "cell_type": "code",
   "execution_count": 12,
   "id": "8cfdd47c",
   "metadata": {},
   "outputs": [],
   "source": [
    "q = 3\n",
    "p = 45.5\n",
    "o = 'I want to order {1} for rs {2}'"
   ]
  },
  {
   "cell_type": "code",
   "execution_count": 13,
   "id": "5cd70b1f",
   "metadata": {},
   "outputs": [
    {
     "ename": "IndexError",
     "evalue": "tuple index out of range",
     "output_type": "error",
     "traceback": [
      "\u001b[1;31m---------------------------------------------------------------------------\u001b[0m",
      "\u001b[1;31mIndexError\u001b[0m                                Traceback (most recent call last)",
      "\u001b[1;32m<ipython-input-13-cbc3542f69df>\u001b[0m in \u001b[0;36m<module>\u001b[1;34m\u001b[0m\n\u001b[1;32m----> 1\u001b[1;33m \u001b[0mprint\u001b[0m\u001b[1;33m(\u001b[0m\u001b[0mo\u001b[0m\u001b[1;33m.\u001b[0m\u001b[0mformat\u001b[0m\u001b[1;33m(\u001b[0m\u001b[0mq\u001b[0m\u001b[1;33m,\u001b[0m\u001b[0mp\u001b[0m\u001b[1;33m)\u001b[0m\u001b[1;33m)\u001b[0m\u001b[1;33m\u001b[0m\u001b[1;33m\u001b[0m\u001b[0m\n\u001b[0m",
      "\u001b[1;31mIndexError\u001b[0m: tuple index out of range"
     ]
    }
   ],
   "source": [
    "print(o.format(q,p))"
   ]
  },
  {
   "cell_type": "code",
   "execution_count": 14,
   "id": "d579c061",
   "metadata": {},
   "outputs": [
    {
     "name": "stdout",
     "output_type": "stream",
     "text": [
      "I want to order 3 for rs 45.5\n"
     ]
    }
   ],
   "source": [
    "print(o.format(1,q,p))"
   ]
  },
  {
   "cell_type": "code",
   "execution_count": 15,
   "id": "b2eeea71",
   "metadata": {},
   "outputs": [
    {
     "name": "stdout",
     "output_type": "stream",
     "text": [
      "I want to order 3 for rs 3\n"
     ]
    }
   ],
   "source": [
    "o = 'I want to order {0} for rs {0}'\n",
    "print(o.format(q,p))"
   ]
  },
  {
   "cell_type": "code",
   "execution_count": null,
   "id": "5b2b0bb6",
   "metadata": {},
   "outputs": [],
   "source": []
  }
 ],
 "metadata": {
  "kernelspec": {
   "display_name": "Python 3",
   "language": "python",
   "name": "python3"
  },
  "language_info": {
   "codemirror_mode": {
    "name": "ipython",
    "version": 3
   },
   "file_extension": ".py",
   "mimetype": "text/x-python",
   "name": "python",
   "nbconvert_exporter": "python",
   "pygments_lexer": "ipython3",
   "version": "3.6.9"
  }
 },
 "nbformat": 4,
 "nbformat_minor": 5
}
