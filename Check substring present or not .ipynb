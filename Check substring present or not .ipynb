{
 "cells": [
  {
   "cell_type": "code",
   "execution_count": 1,
   "id": "b90958fd",
   "metadata": {},
   "outputs": [],
   "source": [
    "message = 'python is programming language'"
   ]
  },
  {
   "cell_type": "code",
   "execution_count": 2,
   "id": "0b911907",
   "metadata": {},
   "outputs": [
    {
     "data": {
      "text/plain": [
       "1"
      ]
     },
     "execution_count": 2,
     "metadata": {},
     "output_type": "execute_result"
    }
   ],
   "source": [
    "message.count('is')"
   ]
  },
  {
   "cell_type": "code",
   "execution_count": 3,
   "id": "67f2081b",
   "metadata": {},
   "outputs": [
    {
     "data": {
      "text/plain": [
       "0"
      ]
     },
     "execution_count": 3,
     "metadata": {},
     "output_type": "execute_result"
    }
   ],
   "source": [
    "message.count('P')"
   ]
  },
  {
   "cell_type": "code",
   "execution_count": 4,
   "id": "128178d9",
   "metadata": {},
   "outputs": [
    {
     "data": {
      "text/plain": [
       "2"
      ]
     },
     "execution_count": 4,
     "metadata": {},
     "output_type": "execute_result"
    }
   ],
   "source": [
    "message.count('p')"
   ]
  },
  {
   "cell_type": "code",
   "execution_count": 5,
   "id": "f999bfe0",
   "metadata": {},
   "outputs": [
    {
     "data": {
      "text/plain": [
       "0"
      ]
     },
     "execution_count": 5,
     "metadata": {},
     "output_type": "execute_result"
    }
   ],
   "source": [
    "message.count('is',8)"
   ]
  },
  {
   "cell_type": "code",
   "execution_count": 6,
   "id": "ea0457c6",
   "metadata": {},
   "outputs": [
    {
     "data": {
      "text/plain": [
       "1"
      ]
     },
     "execution_count": 6,
     "metadata": {},
     "output_type": "execute_result"
    }
   ],
   "source": [
    "message.count('p',5)"
   ]
  },
  {
   "cell_type": "code",
   "execution_count": 7,
   "id": "ab744f8c",
   "metadata": {},
   "outputs": [
    {
     "data": {
      "text/plain": [
       "1"
      ]
     },
     "execution_count": 7,
     "metadata": {},
     "output_type": "execute_result"
    }
   ],
   "source": [
    "message.count('programming language')"
   ]
  },
  {
   "cell_type": "code",
   "execution_count": 8,
   "id": "02338e83",
   "metadata": {},
   "outputs": [],
   "source": [
    "mess = 'abcdcdc'"
   ]
  },
  {
   "cell_type": "code",
   "execution_count": 9,
   "id": "4fce3e3e",
   "metadata": {},
   "outputs": [
    {
     "data": {
      "text/plain": [
       "1"
      ]
     },
     "execution_count": 9,
     "metadata": {},
     "output_type": "execute_result"
    }
   ],
   "source": [
    "mess.count('cdc')"
   ]
  },
  {
   "cell_type": "code",
   "execution_count": null,
   "id": "3ea11b45",
   "metadata": {},
   "outputs": [],
   "source": []
  }
 ],
 "metadata": {
  "kernelspec": {
   "display_name": "Python 3",
   "language": "python",
   "name": "python3"
  },
  "language_info": {
   "codemirror_mode": {
    "name": "ipython",
    "version": 3
   },
   "file_extension": ".py",
   "mimetype": "text/x-python",
   "name": "python",
   "nbconvert_exporter": "python",
   "pygments_lexer": "ipython3",
   "version": "3.6.9"
  }
 },
 "nbformat": 4,
 "nbformat_minor": 5
}
