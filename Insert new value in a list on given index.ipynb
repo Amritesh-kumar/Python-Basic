{
 "cells": [
  {
   "cell_type": "code",
   "execution_count": 1,
   "id": "978a4faa",
   "metadata": {},
   "outputs": [],
   "source": [
    "l = [1,3,5,6,7]"
   ]
  },
  {
   "cell_type": "code",
   "execution_count": 2,
   "id": "c75ac4f0",
   "metadata": {},
   "outputs": [
    {
     "data": {
      "text/plain": [
       "[1, 3, 5, 6, 7]"
      ]
     },
     "execution_count": 2,
     "metadata": {},
     "output_type": "execute_result"
    }
   ],
   "source": [
    "l"
   ]
  },
  {
   "cell_type": "code",
   "execution_count": 5,
   "id": "9ce1d023",
   "metadata": {},
   "outputs": [
    {
     "name": "stdout",
     "output_type": "stream",
     "text": [
      "Enter index value : 2\n"
     ]
    }
   ],
   "source": [
    "x = int(input('Enter index value : '))"
   ]
  },
  {
   "cell_type": "code",
   "execution_count": 6,
   "id": "ebbda6a6",
   "metadata": {},
   "outputs": [
    {
     "data": {
      "text/plain": [
       "2"
      ]
     },
     "execution_count": 6,
     "metadata": {},
     "output_type": "execute_result"
    }
   ],
   "source": [
    "x"
   ]
  },
  {
   "cell_type": "code",
   "execution_count": 7,
   "id": "fe16e5f1",
   "metadata": {},
   "outputs": [
    {
     "name": "stdout",
     "output_type": "stream",
     "text": [
      "Enter value for given index : 4\n"
     ]
    }
   ],
   "source": [
    "y = int(input('Enter value for given index : '))"
   ]
  },
  {
   "cell_type": "code",
   "execution_count": 8,
   "id": "7cb86085",
   "metadata": {},
   "outputs": [
    {
     "data": {
      "text/plain": [
       "[1, 3, 5, 6, 7]"
      ]
     },
     "execution_count": 8,
     "metadata": {},
     "output_type": "execute_result"
    }
   ],
   "source": [
    "l"
   ]
  },
  {
   "cell_type": "code",
   "execution_count": 9,
   "id": "7e333cab",
   "metadata": {},
   "outputs": [],
   "source": [
    "l.insert(x,y)"
   ]
  },
  {
   "cell_type": "code",
   "execution_count": 10,
   "id": "4930fb65",
   "metadata": {},
   "outputs": [
    {
     "data": {
      "text/plain": [
       "[1, 3, 4, 5, 6, 7]"
      ]
     },
     "execution_count": 10,
     "metadata": {},
     "output_type": "execute_result"
    }
   ],
   "source": [
    "l"
   ]
  },
  {
   "cell_type": "code",
   "execution_count": 11,
   "id": "95ee06f3",
   "metadata": {},
   "outputs": [
    {
     "name": "stdout",
     "output_type": "stream",
     "text": [
      "Enter index value : 0\n",
      "Enter value for given index : 22\n"
     ]
    }
   ],
   "source": [
    "x = int(input('Enter index value : '))\n",
    "y = int(input('Enter value for given index : '))"
   ]
  },
  {
   "cell_type": "code",
   "execution_count": 12,
   "id": "15bf2e7e",
   "metadata": {},
   "outputs": [],
   "source": [
    "l.insert(x,y)"
   ]
  },
  {
   "cell_type": "code",
   "execution_count": 13,
   "id": "85cc2b4f",
   "metadata": {},
   "outputs": [
    {
     "data": {
      "text/plain": [
       "[22, 1, 3, 4, 5, 6, 7]"
      ]
     },
     "execution_count": 13,
     "metadata": {},
     "output_type": "execute_result"
    }
   ],
   "source": [
    "l"
   ]
  },
  {
   "cell_type": "code",
   "execution_count": null,
   "id": "a7f5145a",
   "metadata": {},
   "outputs": [],
   "source": []
  }
 ],
 "metadata": {
  "kernelspec": {
   "display_name": "Python 3",
   "language": "python",
   "name": "python3"
  },
  "language_info": {
   "codemirror_mode": {
    "name": "ipython",
    "version": 3
   },
   "file_extension": ".py",
   "mimetype": "text/x-python",
   "name": "python",
   "nbconvert_exporter": "python",
   "pygments_lexer": "ipython3",
   "version": "3.6.9"
  }
 },
 "nbformat": 4,
 "nbformat_minor": 5
}
